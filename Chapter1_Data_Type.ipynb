{
 "cells": [
  {
   "cell_type": "markdown",
   "id": "5f393710",
   "metadata": {},
   "source": [
    "# Hello World 출력하기"
   ]
  },
  {
   "cell_type": "code",
   "execution_count": null,
   "id": "4b652206",
   "metadata": {
    "scrolled": false
   },
   "outputs": [],
   "source": [
    "clear all\n",
    "close all\n",
    "disp('Hello World')"
   ]
  },
  {
   "cell_type": "markdown",
   "id": "a7913dd4",
   "metadata": {},
   "source": [
    "# 자료형\n",
    "## 숫자 자료형 출력"
   ]
  },
  {
   "cell_type": "code",
   "execution_count": null,
   "id": "c4474f32",
   "metadata": {
    "scrolled": false
   },
   "outputs": [],
   "source": [
    "disp(5)\n",
    "disp(-10)\n",
    "disp(3.14)\n",
    "disp(1000)\n",
    "disp(5+3)\n",
    "disp(2*8)\n",
    "disp(3*(3+1))"
   ]
  },
  {
   "cell_type": "markdown",
   "id": "84e15f09",
   "metadata": {},
   "source": [
    "## 숫자 자료형 \n",
    "### 정수형 (int8, uint8, int16, uint16, int32, uint32, int64, uint64)"
   ]
  },
  {
   "cell_type": "code",
   "execution_count": null,
   "id": "ebf19246",
   "metadata": {},
   "outputs": [],
   "source": [
    "a1 = int8(127)\n",
    "a2 = uint8(255)\n",
    "a3 = int16(32000)\n",
    "a4 = uint16(32000)\n",
    "whos"
   ]
  },
  {
   "cell_type": "code",
   "execution_count": null,
   "id": "3e235c3b",
   "metadata": {},
   "outputs": [],
   "source": [
    "a = int8(255)\n",
    "a = int8(-128)\n",
    "a = int8(-255)"
   ]
  },
  {
   "cell_type": "markdown",
   "id": "5f8c4825",
   "metadata": {},
   "source": [
    "## 실수형 자료 (double) : MATLAB에서 모든 변수는 double형이 디폴트"
   ]
  },
  {
   "cell_type": "code",
   "execution_count": null,
   "id": "913386ee",
   "metadata": {},
   "outputs": [],
   "source": [
    "b1 = 10\n",
    "b2 = 3.14\n",
    "b3 = 3.141592\n",
    "whos"
   ]
  },
  {
   "cell_type": "markdown",
   "id": "9d62c505",
   "metadata": {},
   "source": [
    "## 문자열 자료형 (' ') 사용"
   ]
  },
  {
   "cell_type": "code",
   "execution_count": null,
   "id": "b3129270",
   "metadata": {},
   "outputs": [],
   "source": [
    "disp('String')\n",
    "s1 = 'MATLAB Coding';\n",
    "disp(s1)\n",
    "whos"
   ]
  },
  {
   "cell_type": "markdown",
   "id": "af802f36",
   "metadata": {},
   "source": [
    "## Boolean 자료형 : 참/거짓"
   ]
  },
  {
   "cell_type": "code",
   "execution_count": null,
   "id": "12661f64",
   "metadata": {},
   "outputs": [],
   "source": [
    "t1 = true\n",
    "f1 = false\n",
    "bigger = (5 > 2)\n",
    "smaller = (5 < 2)\n",
    "whos"
   ]
  },
  {
   "cell_type": "markdown",
   "id": "291f9d8d",
   "metadata": {},
   "source": [
    "## 변수 : 데이터를 저장하는 곳"
   ]
  },
  {
   "cell_type": "code",
   "execution_count": null,
   "id": "e52998ae",
   "metadata": {},
   "outputs": [],
   "source": [
    "animal = 'dog';\n",
    "name = 'Happy';\n",
    "age = 4;\n",
    "hobby = 'Walking';\n",
    "is_adult = (age >= 3);\n",
    "str1 = ['My ', animal, ' name is ', name, ' and he is ', num2str(age), ' years old.'];\n",
    "str2 = ['His hobby is ', hobby, ' and is he an adult? ', num2str(is_adult)];\n",
    "disp(str1)"
   ]
  },
  {
   "cell_type": "markdown",
   "id": "61b401e4",
   "metadata": {},
   "source": [
    "## 주석처리"
   ]
  },
  {
   "cell_type": "code",
   "execution_count": null,
   "id": "c9df278a",
   "metadata": {},
   "outputs": [],
   "source": [
    "apple = 5;    % 사과가 5개\n",
    "%{\n",
    "이것은 주석입니다.\n",
    "MATLAB에서 처리되지 않는 문장입니다.\n",
    "%}"
   ]
  },
  {
   "cell_type": "markdown",
   "id": "1def7e80",
   "metadata": {},
   "source": [
    "## 퀴즈\n",
    "### 변수 station을 사용하여 \"xx행 열차가 들어오고 있습니다.\"를 출력\n",
    "### 변수 내용은 \"사당\", \"신도림\", \"인천공항\""
   ]
  },
  {
   "cell_type": "code",
   "execution_count": null,
   "id": "dfe6a3c9",
   "metadata": {},
   "outputs": [],
   "source": [
    "station = '사당';\n",
    "disp([station, '행 열차가 들어오고 있습니다.']);\n",
    "station = '신도림';\n",
    "disp([station, '행 열차가 들어오고 있습니다.']);\n",
    "station = '인천공항';\n",
    "disp([station, '행 열차가 들어오고 있습니다.']);"
   ]
  }
 ],
 "metadata": {
  "kernelspec": {
   "display_name": "Matlab",
   "language": "matlab",
   "name": "matlab"
  },
  "language_info": {
   "codemirror_mode": "octave",
   "file_extension": ".m",
   "help_links": [
    {
     "text": "MetaKernel Magics",
     "url": "https://metakernel.readthedocs.io/en/latest/source/README.html"
    }
   ],
   "mimetype": "text/x-octave",
   "name": "matlab",
   "version": "0.16.11"
  }
 },
 "nbformat": 4,
 "nbformat_minor": 5
}
