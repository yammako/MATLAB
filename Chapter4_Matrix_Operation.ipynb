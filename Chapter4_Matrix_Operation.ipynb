{
 "cells": [
  {
   "cell_type": "markdown",
   "id": "ece1bf55",
   "metadata": {},
   "source": [
    "# 행렬 연산\n",
    "## 행렬의 덧셈과 뺄셈 (행렬의 차수가 같아야 함)"
   ]
  },
  {
   "cell_type": "code",
   "execution_count": null,
   "id": "c88c5092",
   "metadata": {},
   "outputs": [],
   "source": [
    "a1 = [1 2 3; 4 5 6; 7 8 9]     % 3x3 행렬\n",
    "a2 = magic(3)      % 3x3의 임의의 행렬 생성\n",
    "a3 = a1 + a2\n",
    "a4 = a1 - a2"
   ]
  },
  {
   "cell_type": "markdown",
   "id": "ab2d7e20",
   "metadata": {},
   "source": [
    "## 행렬의 곱셈 (상수 곱셈)"
   ]
  },
  {
   "cell_type": "code",
   "execution_count": null,
   "id": "beba8479",
   "metadata": {},
   "outputs": [],
   "source": [
    "clear all;\n",
    "a1 = magic(3)\n",
    "c = 2\n",
    "a2 = c*a1"
   ]
  },
  {
   "cell_type": "markdown",
   "id": "c366108c",
   "metadata": {},
   "source": [
    "## 행렬간의 곱셈 (행렬 곱)"
   ]
  },
  {
   "cell_type": "code",
   "execution_count": null,
   "id": "a3e4b169",
   "metadata": {},
   "outputs": [],
   "source": [
    "clear all;\n",
    "a1 = [1 2; 3 4; 5 6]     % 3x2 행렬\n",
    "a2 = [1 2 3 4; 5 6 7 8]   % 2x4 행렬\n",
    "a3 = a1*a2      % 3x4 행렬이 만들어짐.\n",
    "% a4 = a2*a1    % 행렬 차수가 맞지 않아 에러 발생\n",
    "a4 = [1 2; 3 4; 5 6; 7 8]  % 4x2 행렬\n",
    "a5 = a1*a4'     % 3x2 행렬과 4x2 행렬은 곱셈 불가하지만 4x2 행렬을 전치시키면 2x4 행렬이 되므로 곱셈 가능, 전치는 '를 사용함"
   ]
  },
  {
   "cell_type": "markdown",
   "id": "40c3ca1d",
   "metadata": {},
   "source": [
    "## 행렬간의 곱셈 (요소간의 곱)"
   ]
  },
  {
   "cell_type": "code",
   "execution_count": null,
   "id": "a483599b",
   "metadata": {},
   "outputs": [],
   "source": [
    "clear all;\n",
    "a1 = [1 2 3 4; 5 6 7 8]     % 2x4 행렬\n",
    "a2 = [10 20 30 40; 50 60 70 80]     % 2x4 행렬\n",
    "a3 = a1.*a2     % .*는 요소간의 곱 연산자이기 때문에 2x4 행렬 결과가 나옴\n",
    "% a4 = a1*a2    % 2x4 행렬과 2x4 행렬은 곱셈 불가\n",
    "a5 = a1*a2'     % 2x4 행렬과 4x2 행렬의 곱이므로 2x2 행렬 결과가 나옴."
   ]
  },
  {
   "cell_type": "markdown",
   "id": "65938f01",
   "metadata": {},
   "source": [
    "## 행렬의 나눗셈은 행렬의 곱과 동일함. 요소간의 나눗셈은 ./를 사용함.\n",
    "## 0으로 나누게 되면 Inf (무한대) 결과가 나올 수 있으므로 주의 필요.\n",
    "## 0 나누기 0은 NaN 이라는 결과가 나오기 때문에 주의 필요."
   ]
  },
  {
   "cell_type": "code",
   "execution_count": null,
   "id": "f5a3e619",
   "metadata": {},
   "outputs": [],
   "source": [
    "clear all;\n",
    "a1 = [1 2 3 4; 5 6 7 8]     % 2x4 행렬\n",
    "a2 = [0 20 30 0; 50 60 70 80]     % 2x4 행렬\n",
    "a3 = a1./a2     % ./는 요소간의 나눗셈 연산자이기 때문에 2x4 행렬 결과가 나옴\n",
    "% a4 = a1/a2    % 2x4 행렬과 2x4 행렬은 나눗셈 불가"
   ]
  },
  {
   "cell_type": "markdown",
   "id": "71290659",
   "metadata": {},
   "source": [
    "## 행렬 연산이 중요한 이유\n",
    "### 3x3행렬의 각 요소에 1~9를 각각 곱한 결과를 본다고 했을 때 속도를 비교해 보자"
   ]
  },
  {
   "cell_type": "code",
   "execution_count": 1,
   "id": "1e938cc1",
   "metadata": {},
   "outputs": [
    {
     "name": "stdout",
     "output_type": "stream",
     "text": [
      "\n",
      "a1 =\n",
      "\n",
      "     8     1     6\n",
      "     3     5     7\n",
      "     4     9     2\n",
      "\n",
      "\n",
      "a2 =\n",
      "\n",
      "     8     6    12     4    25    54    42    56    18\n",
      "\n",
      "경과 시간은 0.001243초입니다.\n",
      "\n",
      "a3 =\n",
      "\n",
      "     8     2    18\n",
      "    12    25    42\n",
      "    28    72    18\n",
      "\n",
      "경과 시간은 0.000829초입니다.\n",
      "\n"
     ]
    }
   ],
   "source": [
    "a1 = magic(3)\n",
    "a2 = [];\n",
    "a3 = [];\n",
    "tic;\n",
    "for k1=1:9\n",
    "a2(k1) = a1(k1)*k1;\n",
    "end\n",
    "a2\n",
    "toc;\n",
    "tic;\n",
    "a3 = a1.*[1 2 3; 4 5 6; 7 8 9]\n",
    "toc;"
   ]
  },
  {
   "cell_type": "markdown",
   "id": "c63cfbc2",
   "metadata": {},
   "source": [
    "### 행렬 연산이 for문에 비해 속도가 빠름을 알 수 있다."
   ]
  },
  {
   "cell_type": "code",
   "execution_count": null,
   "id": "5e723faa",
   "metadata": {},
   "outputs": [],
   "source": []
  }
 ],
 "metadata": {
  "kernelspec": {
   "display_name": "Matlab",
   "language": "matlab",
   "name": "matlab"
  },
  "language_info": {
   "codemirror_mode": "octave",
   "file_extension": ".m",
   "help_links": [
    {
     "text": "MetaKernel Magics",
     "url": "https://metakernel.readthedocs.io/en/latest/source/README.html"
    }
   ],
   "mimetype": "text/x-octave",
   "name": "matlab",
   "version": "0.16.11"
  }
 },
 "nbformat": 4,
 "nbformat_minor": 5
}
