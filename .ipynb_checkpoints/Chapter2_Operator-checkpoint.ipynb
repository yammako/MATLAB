{
 "cells": [
  {
   "cell_type": "markdown",
   "id": "dc921175",
   "metadata": {},
   "source": [
    "# 연산자\n",
    "## 사칙연산자"
   ]
  },
  {
   "cell_type": "code",
   "execution_count": null,
   "id": "2510fa52",
   "metadata": {},
   "outputs": [],
   "source": [
    "1 + 1     % 덧셈\n",
    "3 - 2     % 뺄셈\n",
    "5 * 2     % 곱셉\n",
    "6 / 3     % 나눗셈"
   ]
  },
  {
   "cell_type": "markdown",
   "id": "2e87acfb",
   "metadata": {},
   "source": [
    "## 특수 연산자"
   ]
  },
  {
   "cell_type": "code",
   "execution_count": null,
   "id": "bc274e31",
   "metadata": {},
   "outputs": [],
   "source": [
    "2^3     % 2의 세제곱\n",
    "mod(5, 3)    % 5 나누기 3의 나머지인 2 (나머지를 구하는 연산자)"
   ]
  },
  {
   "cell_type": "markdown",
   "id": "f6df3f98",
   "metadata": {},
   "source": [
    "## 논리 연산자"
   ]
  },
  {
   "cell_type": "code",
   "execution_count": null,
   "id": "d51e25fb",
   "metadata": {},
   "outputs": [],
   "source": [
    "10 > 3\n",
    "4 >= 7\n",
    "3 == 3\n",
    "3 + 4 == 7\n",
    "1 ~= 3      % ~ 는 NOT을 의미함\n",
    "~(1 ~= 3)\n",
    "(3 > 0) & (3 < 5)     % & 는 AND를 의미함\n",
    "(3 > 0) | (3 > 5)     % | 는 OR를 의미함"
   ]
  },
  {
   "cell_type": "markdown",
   "id": "44f8a816",
   "metadata": {},
   "source": [
    "## 변수를 사용한 연산"
   ]
  },
  {
   "cell_type": "code",
   "execution_count": null,
   "id": "d76e821e",
   "metadata": {},
   "outputs": [],
   "source": [
    "number = 2 + 3 * 4\n",
    "number = number + 2\n",
    "number = number * 2\n",
    "number = number / 2\n",
    "number = mod(number, 2)\n",
    "number = number - 2"
   ]
  },
  {
   "cell_type": "markdown",
   "id": "c2624163",
   "metadata": {},
   "source": [
    "## 숫자 처리 함수"
   ]
  },
  {
   "cell_type": "code",
   "execution_count": null,
   "id": "250c2c85",
   "metadata": {},
   "outputs": [],
   "source": [
    "abs(-5)     % 절대값\n",
    "real(5 + 4i)     % 실수값\n",
    "imag(5 + 4i)     % 허수값\n",
    "max(5, 4)     % 최대값\n",
    "min(1, 5)    % 최소값\n",
    "round(3.6)     % 반올림\n",
    "floor(3.6)     % 버림\n",
    "ceil(3.1)     % 올림\n",
    "sqrt(2)     % 제곱근"
   ]
  },
  {
   "cell_type": "markdown",
   "id": "86723f38",
   "metadata": {},
   "source": [
    "## Random 함수 사용"
   ]
  },
  {
   "cell_type": "code",
   "execution_count": null,
   "id": "7cb3a543",
   "metadata": {},
   "outputs": [],
   "source": [
    "rand(2)     % 0 ~ 1 사이의 실수를 균일 분포로 2x2 행렬로 랜덤하게 생성\n",
    "randn(2)    % 실수를 정규 분포로 2x2 행렬로 랜덤하게 생성\n",
    "poissrnd(5.4)   % 5.4 매개변수에 대한 포아송 분포 값을 생성"
   ]
  },
  {
   "cell_type": "markdown",
   "id": "1474d570",
   "metadata": {},
   "source": [
    "## 퀴즈\n",
    "### 당신은 MATLAB 코딩 스터디 그룹을 만들었다. \n",
    "### 월 4회 스터디를 하는데 3번은 온라인으로 하고 1번은 오프라인으로 하기로 했다. \n",
    "### 아래 조건에 맞는 오프라인 모임 날짜를 정해주는 프로그램을 작성하시오.\n",
    "\n",
    "조건 1 : 랜덤으로 날짜를 뽑아야 함.\n",
    "\n",
    "조건 2 : 월별 날짜가 다르므로 28일 이내로 정함.\n",
    "\n",
    "조건 3 : 매월 1 ~ 3일은 스터디 준비를 해야 하므로 제외\n",
    "\n",
    "출력문 예제 : 오프라인 스터디 모임 날짜는 매월 x일로 선정되었습니다."
   ]
  },
  {
   "cell_type": "code",
   "execution_count": null,
   "id": "52c23311",
   "metadata": {},
   "outputs": [],
   "source": [
    "day = round(24*rand(1)) + 4;     % rand는 0 ~ 1 사이의 실수를 생성하고 여기에 24를 곱해서 반올림하면 0 ~ 24의 정수가 됨.\n",
    "%여기에 4를 더해서 4 ~ 28의 랜덤한 숫자를 발생시킬 수 있음.\n",
    "disp(['오프라인 스터디 모임 날짜는 매월 ', num2str(day), '일로 선정되었습니다.'])"
   ]
  },
  {
   "cell_type": "code",
   "execution_count": null,
   "id": "7a33910c",
   "metadata": {},
   "outputs": [],
   "source": []
  }
 ],
 "metadata": {
  "kernelspec": {
   "display_name": "Matlab",
   "language": "matlab",
   "name": "matlab"
  },
  "language_info": {
   "codemirror_mode": "octave",
   "file_extension": ".m",
   "help_links": [
    {
     "text": "MetaKernel Magics",
     "url": "https://metakernel.readthedocs.io/en/latest/source/README.html"
    }
   ],
   "mimetype": "text/x-octave",
   "name": "matlab",
   "version": "0.16.11"
  }
 },
 "nbformat": 4,
 "nbformat_minor": 5
}
