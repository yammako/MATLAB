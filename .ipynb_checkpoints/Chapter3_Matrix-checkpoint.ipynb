{
 "cells": [
  {
   "cell_type": "markdown",
   "id": "6ca0b084",
   "metadata": {},
   "source": [
    "# 행렬\n",
    "## MATLAB에서 모든 변수는 행렬이다.\n",
    "## 행렬의 인덱스는 1부터 시작한다. 0이나 음의 인덱스는 없다.\n",
    "## 1차원 행렬"
   ]
  },
  {
   "cell_type": "code",
   "execution_count": null,
   "id": "79fd7475",
   "metadata": {},
   "outputs": [],
   "source": [
    "a1 = [1, 2, 3, 4, 5]     % 1x5 행렬\n",
    "a2 = [1; 2; 3; 4; 5]     % 5x1 행렬\n",
    "a3 = 6                   % 1x1 행렬\n",
    "whos"
   ]
  },
  {
   "cell_type": "markdown",
   "id": "7a0f5584",
   "metadata": {},
   "source": [
    "## 2차원 행렬"
   ]
  },
  {
   "cell_type": "code",
   "execution_count": null,
   "id": "877c7190",
   "metadata": {},
   "outputs": [],
   "source": [
    "clear all\n",
    "a1 = [1 2 3; 4 5 6; 7 8 9]     % 3x3 행렬 (차수를 맞춰야 한다.)\n",
    "% a2 = [1 2 3; 4 5; 6 7 8]     % 차수가 맞지 않아 에러가 발생한다.\n",
    "whos"
   ]
  },
  {
   "cell_type": "markdown",
   "id": "abafaf75",
   "metadata": {},
   "source": [
    "## 3차원 행렬 (주로 컬러 영상 (R, G, B) 데이터가 3차원 행렬이다.)"
   ]
  },
  {
   "cell_type": "code",
   "execution_count": null,
   "id": "ca998860",
   "metadata": {},
   "outputs": [],
   "source": [
    "clear all\n",
    "a4(:,:,1) = [1 2 3; 4 5 6; 7 8 9]     % 3x3x1\n",
    "a4(:,:,2) = [10 11 12; 13 14 15; 16 17 18]     % 3x3x2\n",
    "a4(:,:,3) = [19 20 21; 22 23 24; 25 26 27]     % 3x3x3\n",
    "whos"
   ]
  },
  {
   "cell_type": "markdown",
   "id": "a5baa18f",
   "metadata": {},
   "source": [
    "## 특수한 행렬 (0으로 이루어진 행렬, 1로 이루어진 행렬)"
   ]
  },
  {
   "cell_type": "code",
   "execution_count": null,
   "id": "135bc4ef",
   "metadata": {},
   "outputs": [],
   "source": [
    "clear all\n",
    "z1 = zeros(10,10)     % 0으로 이루어진 10x10 행렬\n",
    "o1 = ones(4,4)        % 1로 이루어진 4x4 행렬\n",
    "whos"
   ]
  },
  {
   "cell_type": "markdown",
   "id": "eb5f7399",
   "metadata": {},
   "source": [
    "## 행렬 요소 접근"
   ]
  },
  {
   "cell_type": "code",
   "execution_count": null,
   "id": "e34821c1",
   "metadata": {},
   "outputs": [],
   "source": [
    "a1 = [4 5 6; 7 8 9; 10 11 12]     % 3x3 행렬\n",
    "a1(1)     % 좌측 상단에서부터 인덱스가 시작됨. 그리고 행 방향 우선임.\n",
    "a1(4)     % 1번째는 4, 2번째는 7, 3번째는 10, 4번째가 5\n",
    "a1(8)     % 8번째는 9\n",
    "a1(1,1)   % a(1)과 동일 (행, 열)의 인덱스를 가짐\n",
    "a1(1,2)   % a(4)와 동일\n",
    "a1(2,3)   % a(8)과 동일\n",
    "a4(:,:,1) = [1 2 3; 4 5 6; 7 8 9]     % 3x3x1\n",
    "a4(:,:,2) = [10 11 12; 13 14 15; 16 17 18]     % 3x3x2\n",
    "a4(:,:,3) = [19 20 21; 22 23 24; 25 26 27]     % 3x3x3\n",
    "a4(2,2,2)     % 14가 출력됨\n",
    "a4(2,2,2) = 100;      % a4(2,2,2)의 데이터값을 100으로 바꿈\n",
    "a4\n",
    "% a4의 3번째 레이어에서 3번째 행의 1번째 열부터 2번째 열까지 출력한다면\n",
    "a4(3,1:2,3)\n",
    "% a5가 3x10의 행렬일 때 2번째 행의 1, 3, 5, 7, 9열의 데이터를 출력한다면\n",
    "a5 = [1 2 3 4 5 6 7 8 9 10; 11 12 13 14 15 16 17 18 19 20; 21 22 23 24 25 26 27 28 29 30]\n",
    "a5(2,1:2:9)     % 1:2:9의 의미는 1에서 시작해서 2씩 증가해 9까지 라는 의미\n",
    "% 거꾸로 출력하고 싶다면\n",
    "a5(2,9:-2:1)"
   ]
  },
  {
   "cell_type": "markdown",
   "id": "5caedc95",
   "metadata": {},
   "source": [
    "## 기존 행렬에 행과 열 추가하기"
   ]
  },
  {
   "cell_type": "code",
   "execution_count": null,
   "id": "1154eb2c",
   "metadata": {},
   "outputs": [],
   "source": [
    "clear all;\n",
    "a1 = [1 2 3; 4 5 6; 7 8 9]     % 3x3 행렬\n",
    "whos\n",
    "% 4번째 행에 10 11 12를 추가하고 싶으면\n",
    "a1 = [a1; 10 11 12]\n",
    "whos\n",
    "% 이제 4x3 행렬에 왼쪽으로 4x1 열 벡터 (100 200 300 400)를 추가하고 싶다면\n",
    "a1 = [[100; 200; 300; 400], a1]\n",
    "whos\n",
    "% 오른쪽에 4x1 열 벡터 (500 600 700 800)을 추가하고 싶다면\n",
    "a1 = [a1, [500; 600; 700; 800;]]\n",
    "whos\n",
    "% 다시 최하단에 1x5 행 벡터 (1001, 1003, 1005, 1007, 1009)를 추가하고 싶다면\n",
    "a1 = [a1; [1001:2:1009]]\n",
    "whos"
   ]
  },
  {
   "cell_type": "markdown",
   "id": "55718d55",
   "metadata": {},
   "source": [
    "## 행렬에 행과 열을 추가하는 함수"
   ]
  },
  {
   "cell_type": "code",
   "execution_count": null,
   "id": "3077b64d",
   "metadata": {},
   "outputs": [],
   "source": [
    "clear all;\n",
    "a1 = [1 2 3; 4 5 6; 7 8 9]     % 3x3 행렬\n",
    "% 행렬 시작부분 위에 9의 값으로 2행을 채우고 싶다면\n",
    "a2 = padarray(a1, 2, 9, 'pre')     %행렬의 차수를 맞추어 데이터를 채워야 함.\n",
    "% 3행, 2열로 주어진 행렬의 좌측, 상측 끝 데이터를 복사해서 채우고 싶다면\n",
    "a3 = padarray(a1, [3, 2], 'replicate', 'pre')\n",
    "% 3행, 2열로 주어진 행렬의 우측, 하측 끝 데이터를 복사해서 채우고 싶다면\n",
    "a4 = padarray(a1, [3, 2], 'replicate', 'post')\n",
    "% 3행, 2열로 0의 값을 행렬의 상하좌우에 모두 채우고 싶다면 (컨볼루션과 코릴레이션에 많이 사용됨.)\n",
    "a5 = padarray(a1, [3, 2], 0, 'both')\n",
    "whos"
   ]
  },
  {
   "cell_type": "markdown",
   "id": "26a3bb94",
   "metadata": {},
   "source": [
    "## 데이터 정렬"
   ]
  },
  {
   "cell_type": "code",
   "execution_count": null,
   "id": "979876f7",
   "metadata": {},
   "outputs": [],
   "source": [
    "clear all;\n",
    "a1 = [10 8 1 5 3 2 11 20 25 21 200]\n",
    "% 데이터를 오름차순으로 정렬 (디폴트값)\n",
    "a2 = sort(a1)\n",
    "% 데이터를 내림차순으로 정렬\n",
    "a3 = sort(a1, 'descend')\n",
    "m1 = [9 1 5; 2 4 7; 8 3 6]\n",
    "% 행렬의 행을 오름차순으로 정렬\n",
    "m2 = sort(m1, 2)\n",
    "% 행렬의 열을 오름차순으로 정렬\n",
    "m3 = sort(m1, 1)\n",
    "% 행렬의 행을 내림차순으로 정렬\n",
    "m4 = sort(m1, 2, 'descend')\n",
    "% 행렬의 열을 내림차순으로 정렬\n",
    "m5 = sort(m1, 1, 'descend')"
   ]
  },
  {
   "cell_type": "markdown",
   "id": "c99b4f8f",
   "metadata": {},
   "source": [
    "## 행렬의 데이터 지우기와 빈 행렬 생성하기"
   ]
  },
  {
   "cell_type": "code",
   "execution_count": null,
   "id": "6da79b02",
   "metadata": {},
   "outputs": [],
   "source": [
    "clear all;\n",
    "a1 = [1 2 3; 4 5 6; 7 8 9]\n",
    "whos\n",
    "clear a1     % 행렬 a1을 지움\n",
    "whos\n",
    "a1 = []\n",
    "whos         % 빈 행렬 a1을 생성"
   ]
  }
 ],
 "metadata": {
  "kernelspec": {
   "display_name": "Matlab",
   "language": "matlab",
   "name": "matlab"
  },
  "language_info": {
   "codemirror_mode": "octave",
   "file_extension": ".m",
   "help_links": [
    {
     "text": "MetaKernel Magics",
     "url": "https://metakernel.readthedocs.io/en/latest/source/README.html"
    }
   ],
   "mimetype": "text/x-octave",
   "name": "matlab",
   "version": "0.16.11"
  }
 },
 "nbformat": 4,
 "nbformat_minor": 5
}
