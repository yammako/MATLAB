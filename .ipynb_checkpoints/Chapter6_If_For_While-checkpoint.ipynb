{
 "cells": [
  {
   "cell_type": "markdown",
   "id": "4e9e241a",
   "metadata": {},
   "source": [
    "# 조건문과 반복문\n",
    "## If ~ elseif ~ else문"
   ]
  },
  {
   "cell_type": "code",
   "execution_count": null,
   "id": "7c8fa996",
   "metadata": {},
   "outputs": [],
   "source": [
    "a1 = 4;\n",
    "if a1 > 0\n",
    "     disp([num2str(a1), ' 은 양수 입니다.'])\n",
    "elseif a1 == 0\n",
    "     disp([num2str(a1), ' 은 0 입니다.'])\n",
    "else\n",
    "     disp([num2str(a1), ' 은 음수 입니다.'])\n",
    "end\n",
    "\n",
    "a1 = -4;\n",
    "if a1 > 0\n",
    "     disp([num2str(a1), ' 은 양수 입니다.'])\n",
    "elseif a1 == 0\n",
    "     disp([num2str(a1), ' 은 0 입니다.'])\n",
    "else\n",
    "     disp([num2str(a1), ' 은 음수 입니다.'])\n",
    "end\n",
    "\n",
    "a1 = 0;\n",
    "if a1 > 0\n",
    "     disp([num2str(a1), ' 은 양수 입니다.'])\n",
    "elseif a1 == 0\n",
    "     disp([num2str(a1), ' 은 0 입니다.'])\n",
    "else\n",
    "     disp([num2str(a1), ' 은 음수 입니다.'])\n",
    "end"
   ]
  },
  {
   "cell_type": "markdown",
   "id": "3256ddcd",
   "metadata": {},
   "source": [
    "## switch ~ case문"
   ]
  },
  {
   "cell_type": "code",
   "execution_count": null,
   "id": "85a60e8b",
   "metadata": {},
   "outputs": [],
   "source": [
    "a1 = 4;\n",
    "switch a1 > 0\n",
    "    case 1\n",
    "        switch a1 ~= 0\n",
    "            case 1\n",
    "                disp([num2str(a1), ' 은 양수 입니다.']);\n",
    "            case 0\n",
    "                disp([num2str(a1), ' 은 0 입니다.']);\n",
    "        end\n",
    "    case 0\n",
    "        disp([num2str(a1), ' 은 음수 입니다.']);\n",
    "    otherwise\n",
    "        disp([num2str(a1), ' 은 구별할 수 없습니다.']);\n",
    "end\n",
    "\n",
    "a1 = -4;\n",
    "switch a1 > 0\n",
    "    case 1\n",
    "        switch a1 ~= 0\n",
    "            case 1\n",
    "                disp([num2str(a1), ' 은 양수 입니다.']);\n",
    "            case 0\n",
    "                disp([num2str(a1), ' 은 0 입니다.']);\n",
    "        end\n",
    "    case 0\n",
    "        disp([num2str(a1), ' 은 음수 입니다.']);\n",
    "    otherwise\n",
    "        disp([num2str(a1), ' 은 구별할 수 없습니다.']);\n",
    "end\n",
    "\n",
    "a1 = 0;\n",
    "switch a1 > 0\n",
    "    case 1\n",
    "        switch a1 ~= 0\n",
    "            case 1\n",
    "                disp([num2str(a1), ' 은 양수 입니다.']);\n",
    "            case 0\n",
    "                disp([num2str(a1), ' 은 0 입니다.']);\n",
    "        end\n",
    "    case 0\n",
    "        disp([num2str(a1), ' 은 음수 입니다.']);\n",
    "    otherwise\n",
    "        disp([num2str(a1), ' 은 구별할 수 없습니다.']);\n",
    "end"
   ]
  },
  {
   "cell_type": "markdown",
   "id": "d9577d1f",
   "metadata": {},
   "source": [
    "## for 문"
   ]
  },
  {
   "cell_type": "code",
   "execution_count": null,
   "id": "1aa9956c",
   "metadata": {},
   "outputs": [],
   "source": [
    "% 1부터 10까지의 합\n",
    "sum = 0;\n",
    "for a = 1:10     % 1부터 10까지 반복\n",
    "sum = sum + a;\n",
    "end\n",
    "sum\n",
    "% 1부터 100까지의 수 중에 홀수의 합\n",
    "sum = 0;\n",
    "for a = 1:2:100\n",
    "sum = sum + a;\n",
    "end\n",
    "sum\n",
    "% 다중 for문을 사용한 구구단 출력\n",
    "for a1 = 2:9\n",
    "for a2 = 2:9\n",
    "disp([num2str(a1), ' X ', num2str(a2), ' = ', num2str(a1*a2)]);\n",
    "end\n",
    "end"
   ]
  },
  {
   "cell_type": "markdown",
   "id": "4e55c295",
   "metadata": {},
   "source": [
    "## while 문"
   ]
  },
  {
   "cell_type": "code",
   "execution_count": null,
   "id": "6aa905fb",
   "metadata": {},
   "outputs": [],
   "source": [
    "% 1부터 10까지의 합\n",
    "sum = 0;\n",
    "a1 = 1;\n",
    "while a1 < 11\n",
    "    sum = sum + a1;\n",
    "    a1 = a1 + 1;\n",
    "end\n",
    "sum\n",
    "\n",
    "% 1부터 100까지의 홀수의 합\n",
    "sum = 0;\n",
    "a1 = 1;\n",
    "while a1 < 101\n",
    "    sum = sum + a1;\n",
    "    a1 = a1 + 2;\n",
    "end\n",
    "sum"
   ]
  },
  {
   "cell_type": "code",
   "execution_count": null,
   "id": "4e25c189",
   "metadata": {},
   "outputs": [],
   "source": []
  }
 ],
 "metadata": {
  "kernelspec": {
   "display_name": "Matlab",
   "language": "matlab",
   "name": "matlab"
  },
  "language_info": {
   "codemirror_mode": "octave",
   "file_extension": ".m",
   "help_links": [
    {
     "text": "MetaKernel Magics",
     "url": "https://metakernel.readthedocs.io/en/latest/source/README.html"
    }
   ],
   "mimetype": "text/x-octave",
   "name": "matlab",
   "version": "0.16.11"
  }
 },
 "nbformat": 4,
 "nbformat_minor": 5
}
