{
 "cells": [
  {
   "cell_type": "markdown",
   "id": "3681d573",
   "metadata": {},
   "source": [
    "# 함수\n",
    "## 입력 파라미터가 없는 함수"
   ]
  },
  {
   "cell_type": "code",
   "execution_count": null,
   "id": "ac195793",
   "metadata": {},
   "outputs": [],
   "source": [
    "function open_account()\n",
    "     disp('새로운 계좌가 생성되었습니다.')\n",
    "end"
   ]
  },
  {
   "cell_type": "markdown",
   "id": "69507639",
   "metadata": {},
   "source": [
    "### 위의 코드를 코드 편집기에서 작성하고 open_account.m으로 저장.\n",
    "### 커맨드 창에서 open_acount()를 실행하면\n",
    "#### 새로운 계좌가 생성되었습니다.\n",
    "### 가 출력됨. 입력 파라미터는 없음."
   ]
  },
  {
   "cell_type": "markdown",
   "id": "96b2aa09",
   "metadata": {},
   "source": [
    "## 입력 파라미터가 있는 경우"
   ]
  },
  {
   "cell_type": "code",
   "execution_count": null,
   "id": "09c51cd9",
   "metadata": {},
   "outputs": [],
   "source": [
    "function balance = deposit(balance, money)\n",
    "     balance = balance + money;\n",
    "     disp(['입급이 완료되었습니다. 잔액은 ', num2str(balance), ' 원입니다.'])\n",
    "end"
   ]
  },
  {
   "cell_type": "markdown",
   "id": "79f028a8",
   "metadata": {},
   "source": [
    "### 위의 코드를 코드 편집기에서 작성하고 deposit.m으로 저장."
   ]
  },
  {
   "cell_type": "code",
   "execution_count": null,
   "id": "dd0feba2",
   "metadata": {},
   "outputs": [],
   "source": [
    "balance = 0;\n",
    "balance = deposit(balance, 1000);"
   ]
  },
  {
   "cell_type": "markdown",
   "id": "5084c689",
   "metadata": {},
   "source": [
    "### 위의 코드를 커맨드 창에서 실행하면 \n",
    "#### 입급이 완료되었습니다. 잔액은 1000 원입니다.\n",
    "### 가 출력되고 balance에는 1000이 저장됨."
   ]
  },
  {
   "cell_type": "markdown",
   "id": "77ebe999",
   "metadata": {},
   "source": [
    "## 다수의 입력, 출력 파라미터가 있는 경우"
   ]
  },
  {
   "cell_type": "code",
   "execution_count": null,
   "id": "b13d6caf",
   "metadata": {},
   "outputs": [],
   "source": [
    "function [balance, money] = withdraw(balance, money)\n",
    "     if balance < money\n",
    "          disp('잔액이 부족합니다. 출금할 수 없습니다.');\n",
    "     else\n",
    "          balance = balance - money;\n",
    "          disp([num2str(money), ' 원을 출금하였습니다. 잔액은 ', num2str(balance), ' 원입니다.']);\n",
    "     end\n",
    "end"
   ]
  },
  {
   "cell_type": "markdown",
   "id": "da23f2bb",
   "metadata": {},
   "source": [
    "### 위의 코드를 코드 편집기에서 작성하고 withdraw.m으로 저장."
   ]
  },
  {
   "cell_type": "code",
   "execution_count": null,
   "id": "3006e4bb",
   "metadata": {},
   "outputs": [],
   "source": [
    "balance = 2000;\n",
    "[balance, money] = withdraw(balance, 1000);\n",
    "balance + money"
   ]
  },
  {
   "cell_type": "markdown",
   "id": "2b211ea3",
   "metadata": {},
   "source": [
    "### 위의 코드를 커맨드 창에서 실행하면\n",
    "#### 1000 원을 출금하였습니다. 잔액은 1000 원입니다.\n",
    "#### 2000\n",
    "### 이 출력되고 balance는 1000, money에는 1000이 저장됨."
   ]
  },
  {
   "cell_type": "code",
   "execution_count": null,
   "id": "b0cefd93",
   "metadata": {},
   "outputs": [],
   "source": []
  }
 ],
 "metadata": {
  "kernelspec": {
   "display_name": "Matlab",
   "language": "matlab",
   "name": "matlab"
  },
  "language_info": {
   "codemirror_mode": "octave",
   "file_extension": ".m",
   "help_links": [
    {
     "text": "MetaKernel Magics",
     "url": "https://metakernel.readthedocs.io/en/latest/source/README.html"
    }
   ],
   "mimetype": "text/x-octave",
   "name": "matlab",
   "version": "0.16.11"
  }
 },
 "nbformat": 4,
 "nbformat_minor": 5
}
